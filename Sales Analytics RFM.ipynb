{
 "cells": [
  {
   "cell_type": "markdown",
   "id": "b32e57da",
   "metadata": {
    "id": "b32e57da"
   },
   "source": [
    "## Sales Data Exploration"
   ]
  },
  {
   "cell_type": "code",
   "execution_count": 4,
   "id": "d14d249a",
   "metadata": {
    "id": "d14d249a"
   },
   "outputs": [],
   "source": [
    "#Importing the Libraries\n",
    "\n",
    "\n",
    "#for data manipulation\n",
    "import pandas as pd\n",
    "\n",
    "#for numerical computing \n",
    "import numpy as np\n",
    "\n",
    "#for scientific and technical computing\n",
    "import scipy\n",
    "\n",
    "#for visualization\n",
    "import matplotlib.pyplot as plt \n",
    "import seaborn as sns\n",
    "sns.set()\n",
    "\n",
    "import datetime as dt\n",
    "\n",
    "from sklearn.linear_model import LinearRegression\n",
    "from sklearn.model_selection import train_test_split\n",
    "from sklearn.metrics import mean_squared_error, r2_score\n",
    "from sklearn.metrics import accuracy_score, precision_score, recall_score, confusion_matrix\n",
    "\n",
    "import warnings\n",
    "warnings.filterwarnings('ignore')\n",
    "%matplotlib inline"
   ]
  },
  {
   "cell_type": "code",
   "execution_count": 5,
   "id": "9844174b",
   "metadata": {
    "colab": {
     "base_uri": "https://localhost:8080/"
    },
    "id": "9844174b",
    "outputId": "d7cabb68-e2be-464b-d382-4a88a0d6c22a"
   },
   "outputs": [
    {
     "data": {
      "text/plain": [
       "Index(['Order ID', 'Customer ID', 'SalesPerson', 'Order Date',\n",
       "       'Order Priority', 'SKU', 'Order Quantity', 'Unit Sell Price',\n",
       "       'Discount', 'Shipping Amount', 'Ship Mode', 'Product Container',\n",
       "       'Ship Date'],\n",
       "      dtype='object')"
      ]
     },
     "execution_count": 5,
     "metadata": {},
     "output_type": "execute_result"
    }
   ],
   "source": [
    "df =pd.read_csv(\"C:/Users/HP/Downloads/sales_2024.csv\")\n",
    "df.columns"
   ]
  },
  {
   "cell_type": "code",
   "execution_count": 8,
   "id": "0f10e736",
   "metadata": {
    "colab": {
     "base_uri": "https://localhost:8080/",
     "height": 354
    },
    "id": "0f10e736",
    "outputId": "6c49430e-d4f7-4a65-a896-b739ee99d797"
   },
   "outputs": [
    {
     "data": {
      "text/html": [
       "<div>\n",
       "<style scoped>\n",
       "    .dataframe tbody tr th:only-of-type {\n",
       "        vertical-align: middle;\n",
       "    }\n",
       "\n",
       "    .dataframe tbody tr th {\n",
       "        vertical-align: top;\n",
       "    }\n",
       "\n",
       "    .dataframe thead th {\n",
       "        text-align: right;\n",
       "    }\n",
       "</style>\n",
       "<table border=\"1\" class=\"dataframe\">\n",
       "  <thead>\n",
       "    <tr style=\"text-align: right;\">\n",
       "      <th></th>\n",
       "      <th>Order ID</th>\n",
       "      <th>Customer ID</th>\n",
       "      <th>SalesPerson</th>\n",
       "      <th>Order Date</th>\n",
       "      <th>Order Priority</th>\n",
       "      <th>SKU</th>\n",
       "      <th>Order Quantity</th>\n",
       "      <th>Unit Sell Price</th>\n",
       "      <th>Discount</th>\n",
       "      <th>Shipping Amount</th>\n",
       "      <th>Ship Mode</th>\n",
       "      <th>Product Container</th>\n",
       "      <th>Ship Date</th>\n",
       "    </tr>\n",
       "  </thead>\n",
       "  <tbody>\n",
       "    <tr>\n",
       "      <th>0</th>\n",
       "      <td>29030</td>\n",
       "      <td>C660</td>\n",
       "      <td>Richard</td>\n",
       "      <td>1/01/2024</td>\n",
       "      <td>Medium</td>\n",
       "      <td>SKU814</td>\n",
       "      <td>10</td>\n",
       "      <td>19.84</td>\n",
       "      <td>0.05</td>\n",
       "      <td>4.10</td>\n",
       "      <td>Regular Air</td>\n",
       "      <td>Wrap Bag</td>\n",
       "      <td>2/01/2024</td>\n",
       "    </tr>\n",
       "    <tr>\n",
       "      <th>1</th>\n",
       "      <td>47591</td>\n",
       "      <td>C198</td>\n",
       "      <td>Bob</td>\n",
       "      <td>1/01/2024</td>\n",
       "      <td>Critical</td>\n",
       "      <td>SKU957</td>\n",
       "      <td>27</td>\n",
       "      <td>10.48</td>\n",
       "      <td>0.10</td>\n",
       "      <td>6.91</td>\n",
       "      <td>Regular Air</td>\n",
       "      <td>Small Box</td>\n",
       "      <td>2/01/2024</td>\n",
       "    </tr>\n",
       "    <tr>\n",
       "      <th>2</th>\n",
       "      <td>54214</td>\n",
       "      <td>C628</td>\n",
       "      <td>Bob</td>\n",
       "      <td>1/01/2024</td>\n",
       "      <td>Medium</td>\n",
       "      <td>SKU1076</td>\n",
       "      <td>38</td>\n",
       "      <td>199.99</td>\n",
       "      <td>0.04</td>\n",
       "      <td>24.49</td>\n",
       "      <td>Express Air</td>\n",
       "      <td>Large Box</td>\n",
       "      <td>4/01/2024</td>\n",
       "    </tr>\n",
       "    <tr>\n",
       "      <th>3</th>\n",
       "      <td>10945</td>\n",
       "      <td>C623</td>\n",
       "      <td>Bob</td>\n",
       "      <td>2/01/2024</td>\n",
       "      <td>Medium</td>\n",
       "      <td>SKU1158</td>\n",
       "      <td>14</td>\n",
       "      <td>95.99</td>\n",
       "      <td>0.04</td>\n",
       "      <td>8.99</td>\n",
       "      <td>Regular Air</td>\n",
       "      <td>Small Box</td>\n",
       "      <td>4/01/2024</td>\n",
       "    </tr>\n",
       "    <tr>\n",
       "      <th>4</th>\n",
       "      <td>50471</td>\n",
       "      <td>C219</td>\n",
       "      <td>Bob</td>\n",
       "      <td>2/01/2024</td>\n",
       "      <td>Low</td>\n",
       "      <td>SKU059</td>\n",
       "      <td>25</td>\n",
       "      <td>226.67</td>\n",
       "      <td>0.02</td>\n",
       "      <td>28.16</td>\n",
       "      <td>Delivery Truck</td>\n",
       "      <td>Jumbo Drum</td>\n",
       "      <td>4/01/2024</td>\n",
       "    </tr>\n",
       "  </tbody>\n",
       "</table>\n",
       "</div>"
      ],
      "text/plain": [
       "   Order ID Customer ID SalesPerson Order Date Order Priority      SKU  \\\n",
       "0     29030        C660     Richard  1/01/2024         Medium   SKU814   \n",
       "1     47591        C198         Bob  1/01/2024       Critical   SKU957   \n",
       "2     54214        C628         Bob  1/01/2024         Medium  SKU1076   \n",
       "3     10945        C623         Bob  2/01/2024         Medium  SKU1158   \n",
       "4     50471        C219         Bob  2/01/2024            Low   SKU059   \n",
       "\n",
       "   Order Quantity  Unit Sell Price  Discount  Shipping Amount       Ship Mode  \\\n",
       "0              10            19.84      0.05             4.10     Regular Air   \n",
       "1              27            10.48      0.10             6.91     Regular Air   \n",
       "2              38           199.99      0.04            24.49     Express Air   \n",
       "3              14            95.99      0.04             8.99     Regular Air   \n",
       "4              25           226.67      0.02            28.16  Delivery Truck   \n",
       "\n",
       "  Product Container  Ship Date  \n",
       "0          Wrap Bag  2/01/2024  \n",
       "1         Small Box  2/01/2024  \n",
       "2         Large Box  4/01/2024  \n",
       "3         Small Box  4/01/2024  \n",
       "4        Jumbo Drum  4/01/2024  "
      ]
     },
     "execution_count": 8,
     "metadata": {},
     "output_type": "execute_result"
    }
   ],
   "source": [
    "df.head()"
   ]
  },
  {
   "cell_type": "code",
   "execution_count": 12,
   "id": "b7d30a0d-846b-43c3-9f6c-abe0e912780e",
   "metadata": {},
   "outputs": [
    {
     "data": {
      "text/html": [
       "<div>\n",
       "<style scoped>\n",
       "    .dataframe tbody tr th:only-of-type {\n",
       "        vertical-align: middle;\n",
       "    }\n",
       "\n",
       "    .dataframe tbody tr th {\n",
       "        vertical-align: top;\n",
       "    }\n",
       "\n",
       "    .dataframe thead th {\n",
       "        text-align: right;\n",
       "    }\n",
       "</style>\n",
       "<table border=\"1\" class=\"dataframe\">\n",
       "  <thead>\n",
       "    <tr style=\"text-align: right;\">\n",
       "      <th></th>\n",
       "      <th>Order ID</th>\n",
       "      <th>Customer ID</th>\n",
       "      <th>SalesPerson</th>\n",
       "      <th>Order Date</th>\n",
       "      <th>Order Priority</th>\n",
       "      <th>SKU</th>\n",
       "      <th>Order Quantity</th>\n",
       "      <th>Unit Sell Price</th>\n",
       "      <th>Discount</th>\n",
       "      <th>Shipping Amount</th>\n",
       "      <th>Ship Mode</th>\n",
       "      <th>Product Container</th>\n",
       "      <th>Ship Date</th>\n",
       "      <th>Revenue</th>\n",
       "    </tr>\n",
       "  </thead>\n",
       "  <tbody>\n",
       "    <tr>\n",
       "      <th>0</th>\n",
       "      <td>29030</td>\n",
       "      <td>C660</td>\n",
       "      <td>Richard</td>\n",
       "      <td>1/01/2024</td>\n",
       "      <td>Medium</td>\n",
       "      <td>SKU814</td>\n",
       "      <td>10</td>\n",
       "      <td>19.84</td>\n",
       "      <td>0.05</td>\n",
       "      <td>4.10</td>\n",
       "      <td>Regular Air</td>\n",
       "      <td>Wrap Bag</td>\n",
       "      <td>2/01/2024</td>\n",
       "      <td>198.40</td>\n",
       "    </tr>\n",
       "    <tr>\n",
       "      <th>1</th>\n",
       "      <td>47591</td>\n",
       "      <td>C198</td>\n",
       "      <td>Bob</td>\n",
       "      <td>1/01/2024</td>\n",
       "      <td>Critical</td>\n",
       "      <td>SKU957</td>\n",
       "      <td>27</td>\n",
       "      <td>10.48</td>\n",
       "      <td>0.10</td>\n",
       "      <td>6.91</td>\n",
       "      <td>Regular Air</td>\n",
       "      <td>Small Box</td>\n",
       "      <td>2/01/2024</td>\n",
       "      <td>282.96</td>\n",
       "    </tr>\n",
       "    <tr>\n",
       "      <th>2</th>\n",
       "      <td>54214</td>\n",
       "      <td>C628</td>\n",
       "      <td>Bob</td>\n",
       "      <td>1/01/2024</td>\n",
       "      <td>Medium</td>\n",
       "      <td>SKU1076</td>\n",
       "      <td>38</td>\n",
       "      <td>199.99</td>\n",
       "      <td>0.04</td>\n",
       "      <td>24.49</td>\n",
       "      <td>Express Air</td>\n",
       "      <td>Large Box</td>\n",
       "      <td>4/01/2024</td>\n",
       "      <td>7599.62</td>\n",
       "    </tr>\n",
       "    <tr>\n",
       "      <th>3</th>\n",
       "      <td>10945</td>\n",
       "      <td>C623</td>\n",
       "      <td>Bob</td>\n",
       "      <td>2/01/2024</td>\n",
       "      <td>Medium</td>\n",
       "      <td>SKU1158</td>\n",
       "      <td>14</td>\n",
       "      <td>95.99</td>\n",
       "      <td>0.04</td>\n",
       "      <td>8.99</td>\n",
       "      <td>Regular Air</td>\n",
       "      <td>Small Box</td>\n",
       "      <td>4/01/2024</td>\n",
       "      <td>1343.86</td>\n",
       "    </tr>\n",
       "    <tr>\n",
       "      <th>4</th>\n",
       "      <td>50471</td>\n",
       "      <td>C219</td>\n",
       "      <td>Bob</td>\n",
       "      <td>2/01/2024</td>\n",
       "      <td>Low</td>\n",
       "      <td>SKU059</td>\n",
       "      <td>25</td>\n",
       "      <td>226.67</td>\n",
       "      <td>0.02</td>\n",
       "      <td>28.16</td>\n",
       "      <td>Delivery Truck</td>\n",
       "      <td>Jumbo Drum</td>\n",
       "      <td>4/01/2024</td>\n",
       "      <td>5666.75</td>\n",
       "    </tr>\n",
       "  </tbody>\n",
       "</table>\n",
       "</div>"
      ],
      "text/plain": [
       "   Order ID Customer ID SalesPerson Order Date Order Priority      SKU  \\\n",
       "0     29030        C660     Richard  1/01/2024         Medium   SKU814   \n",
       "1     47591        C198         Bob  1/01/2024       Critical   SKU957   \n",
       "2     54214        C628         Bob  1/01/2024         Medium  SKU1076   \n",
       "3     10945        C623         Bob  2/01/2024         Medium  SKU1158   \n",
       "4     50471        C219         Bob  2/01/2024            Low   SKU059   \n",
       "\n",
       "   Order Quantity  Unit Sell Price  Discount  Shipping Amount       Ship Mode  \\\n",
       "0              10            19.84      0.05             4.10     Regular Air   \n",
       "1              27            10.48      0.10             6.91     Regular Air   \n",
       "2              38           199.99      0.04            24.49     Express Air   \n",
       "3              14            95.99      0.04             8.99     Regular Air   \n",
       "4              25           226.67      0.02            28.16  Delivery Truck   \n",
       "\n",
       "  Product Container  Ship Date  Revenue  \n",
       "0          Wrap Bag  2/01/2024   198.40  \n",
       "1         Small Box  2/01/2024   282.96  \n",
       "2         Large Box  4/01/2024  7599.62  \n",
       "3         Small Box  4/01/2024  1343.86  \n",
       "4        Jumbo Drum  4/01/2024  5666.75  "
      ]
     },
     "execution_count": 12,
     "metadata": {},
     "output_type": "execute_result"
    }
   ],
   "source": [
    "df['Revenue'] = df['Order Quantity'] * df['Unit Sell Price']\n",
    "df.head()"
   ]
  },
  {
   "cell_type": "code",
   "execution_count": 14,
   "id": "f472f098-7ff9-4b4d-b804-c5605460fcc1",
   "metadata": {},
   "outputs": [
    {
     "data": {
      "text/html": [
       "<div>\n",
       "<style scoped>\n",
       "    .dataframe tbody tr th:only-of-type {\n",
       "        vertical-align: middle;\n",
       "    }\n",
       "\n",
       "    .dataframe tbody tr th {\n",
       "        vertical-align: top;\n",
       "    }\n",
       "\n",
       "    .dataframe thead th {\n",
       "        text-align: right;\n",
       "    }\n",
       "</style>\n",
       "<table border=\"1\" class=\"dataframe\">\n",
       "  <thead>\n",
       "    <tr style=\"text-align: right;\">\n",
       "      <th></th>\n",
       "      <th>Order ID</th>\n",
       "      <th>Order Quantity</th>\n",
       "      <th>Unit Sell Price</th>\n",
       "      <th>Discount</th>\n",
       "      <th>Shipping Amount</th>\n",
       "      <th>Revenue</th>\n",
       "    </tr>\n",
       "  </thead>\n",
       "  <tbody>\n",
       "    <tr>\n",
       "      <th>count</th>\n",
       "      <td>2100.000000</td>\n",
       "      <td>2100.000000</td>\n",
       "      <td>2100.000000</td>\n",
       "      <td>2100.000000</td>\n",
       "      <td>2100.000000</td>\n",
       "      <td>2100.000000</td>\n",
       "    </tr>\n",
       "    <tr>\n",
       "      <th>mean</th>\n",
       "      <td>30250.751905</td>\n",
       "      <td>25.882857</td>\n",
       "      <td>93.110729</td>\n",
       "      <td>0.049705</td>\n",
       "      <td>12.917910</td>\n",
       "      <td>1841.036429</td>\n",
       "    </tr>\n",
       "    <tr>\n",
       "      <th>std</th>\n",
       "      <td>17328.265127</td>\n",
       "      <td>14.667462</td>\n",
       "      <td>288.118447</td>\n",
       "      <td>0.032244</td>\n",
       "      <td>17.477776</td>\n",
       "      <td>3585.192902</td>\n",
       "    </tr>\n",
       "    <tr>\n",
       "      <th>min</th>\n",
       "      <td>6.000000</td>\n",
       "      <td>1.000000</td>\n",
       "      <td>0.990000</td>\n",
       "      <td>0.000000</td>\n",
       "      <td>0.490000</td>\n",
       "      <td>2.520000</td>\n",
       "    </tr>\n",
       "    <tr>\n",
       "      <th>25%</th>\n",
       "      <td>16101.750000</td>\n",
       "      <td>13.000000</td>\n",
       "      <td>6.480000</td>\n",
       "      <td>0.020000</td>\n",
       "      <td>2.997500</td>\n",
       "      <td>138.190000</td>\n",
       "    </tr>\n",
       "    <tr>\n",
       "      <th>50%</th>\n",
       "      <td>30052.500000</td>\n",
       "      <td>26.000000</td>\n",
       "      <td>21.520000</td>\n",
       "      <td>0.050000</td>\n",
       "      <td>6.160000</td>\n",
       "      <td>465.470000</td>\n",
       "    </tr>\n",
       "    <tr>\n",
       "      <th>75%</th>\n",
       "      <td>44679.000000</td>\n",
       "      <td>39.000000</td>\n",
       "      <td>85.990000</td>\n",
       "      <td>0.080000</td>\n",
       "      <td>13.990000</td>\n",
       "      <td>1890.600000</td>\n",
       "    </tr>\n",
       "    <tr>\n",
       "      <th>max</th>\n",
       "      <td>59969.000000</td>\n",
       "      <td>50.000000</td>\n",
       "      <td>6783.020000</td>\n",
       "      <td>0.250000</td>\n",
       "      <td>147.120000</td>\n",
       "      <td>54264.160000</td>\n",
       "    </tr>\n",
       "  </tbody>\n",
       "</table>\n",
       "</div>"
      ],
      "text/plain": [
       "           Order ID  Order Quantity  Unit Sell Price     Discount  \\\n",
       "count   2100.000000     2100.000000      2100.000000  2100.000000   \n",
       "mean   30250.751905       25.882857        93.110729     0.049705   \n",
       "std    17328.265127       14.667462       288.118447     0.032244   \n",
       "min        6.000000        1.000000         0.990000     0.000000   \n",
       "25%    16101.750000       13.000000         6.480000     0.020000   \n",
       "50%    30052.500000       26.000000        21.520000     0.050000   \n",
       "75%    44679.000000       39.000000        85.990000     0.080000   \n",
       "max    59969.000000       50.000000      6783.020000     0.250000   \n",
       "\n",
       "       Shipping Amount       Revenue  \n",
       "count      2100.000000   2100.000000  \n",
       "mean         12.917910   1841.036429  \n",
       "std          17.477776   3585.192902  \n",
       "min           0.490000      2.520000  \n",
       "25%           2.997500    138.190000  \n",
       "50%           6.160000    465.470000  \n",
       "75%          13.990000   1890.600000  \n",
       "max         147.120000  54264.160000  "
      ]
     },
     "execution_count": 14,
     "metadata": {},
     "output_type": "execute_result"
    }
   ],
   "source": [
    "df.describe()"
   ]
  },
  {
   "cell_type": "code",
   "execution_count": 16,
   "id": "56170c24-2ed8-437b-b42d-e1939353c2f5",
   "metadata": {},
   "outputs": [
    {
     "data": {
      "text/plain": [
       "(2100, 14)"
      ]
     },
     "execution_count": 16,
     "metadata": {},
     "output_type": "execute_result"
    }
   ],
   "source": [
    "df.shape"
   ]
  },
  {
   "cell_type": "code",
   "execution_count": 18,
   "id": "05b6e13a-34d8-440f-abd1-a702a910e97b",
   "metadata": {},
   "outputs": [
    {
     "name": "stdout",
     "output_type": "stream",
     "text": [
      "<class 'pandas.core.frame.DataFrame'>\n",
      "RangeIndex: 2100 entries, 0 to 2099\n",
      "Data columns (total 14 columns):\n",
      " #   Column             Non-Null Count  Dtype  \n",
      "---  ------             --------------  -----  \n",
      " 0   Order ID           2100 non-null   int64  \n",
      " 1   Customer ID        2100 non-null   object \n",
      " 2   SalesPerson        2100 non-null   object \n",
      " 3   Order Date         2100 non-null   object \n",
      " 4   Order Priority     2100 non-null   object \n",
      " 5   SKU                2100 non-null   object \n",
      " 6   Order Quantity     2100 non-null   int64  \n",
      " 7   Unit Sell Price    2100 non-null   float64\n",
      " 8   Discount           2100 non-null   float64\n",
      " 9   Shipping Amount    2100 non-null   float64\n",
      " 10  Ship Mode          2100 non-null   object \n",
      " 11  Product Container  2100 non-null   object \n",
      " 12  Ship Date          2100 non-null   object \n",
      " 13  Revenue            2100 non-null   float64\n",
      "dtypes: float64(4), int64(2), object(8)\n",
      "memory usage: 229.8+ KB\n"
     ]
    }
   ],
   "source": [
    "df.info()"
   ]
  },
  {
   "cell_type": "code",
   "execution_count": 30,
   "id": "5a84bd35-4f83-4f38-a0e9-774b29cb4761",
   "metadata": {},
   "outputs": [],
   "source": [
    "df['Order Date'] = pd.to_datetime(df['Order Date'], format = 'mixed')"
   ]
  },
  {
   "cell_type": "code",
   "execution_count": 32,
   "id": "e7bd9d21-6832-4a70-be6a-41b77ef6c704",
   "metadata": {},
   "outputs": [],
   "source": [
    "reference_date = df['Order Date'].max()"
   ]
  },
  {
   "cell_type": "code",
   "execution_count": 34,
   "id": "91f9a00d-8ab8-4658-88d3-60f4759483b9",
   "metadata": {},
   "outputs": [
    {
     "data": {
      "text/plain": [
       "Order ID             1397\n",
       "Customer ID           632\n",
       "SalesPerson             3\n",
       "Order Date            353\n",
       "Order Priority          5\n",
       "SKU                   958\n",
       "Order Quantity         50\n",
       "Unit Sell Price       607\n",
       "Discount               12\n",
       "Shipping Amount       520\n",
       "Ship Mode               3\n",
       "Product Container       7\n",
       "Ship Date             360\n",
       "Revenue              1912\n",
       "dtype: int64"
      ]
     },
     "execution_count": 34,
     "metadata": {},
     "output_type": "execute_result"
    }
   ],
   "source": [
    "df.nunique()"
   ]
  },
  {
   "cell_type": "code",
   "execution_count": 56,
   "id": "80591bc7-708c-423b-9874-64f724d4a788",
   "metadata": {},
   "outputs": [
    {
     "name": "stdout",
     "output_type": "stream",
     "text": [
      "    Customer ID  Recency  Frequency  Monetary\n",
      "0          C003      347          1     98.67\n",
      "1          C004      324          2   5062.12\n",
      "2          C005       29          8   9272.82\n",
      "3          C007      216          1   1451.78\n",
      "4          C008       24          2    437.33\n",
      "..          ...      ...        ...       ...\n",
      "627        C791       58          3   4408.17\n",
      "628        C792       10          4   3754.13\n",
      "629        C793      201          3   2648.32\n",
      "630        C794      132          1    595.70\n",
      "631        C795       73          3   3074.50\n",
      "\n",
      "[632 rows x 4 columns]\n"
     ]
    }
   ],
   "source": [
    "rfm_df = df.groupby('Customer ID').agg({\n",
    "    'Order Date': lambda x : (reference_date - x.max()).days, \n",
    "    'Customer ID':'count', \n",
    "    'Revenue': 'sum'\n",
    "    }).rename(columns={'Order Date' : 'Recency', 'Customer ID' : 'Frequency', 'Revenue': 'Monetary'}).reset_index()\n",
    "print(rfm_df)"
   ]
  },
  {
   "cell_type": "code",
   "execution_count": 58,
   "id": "dc638501-ba59-4f03-ac5c-7bf6e435f744",
   "metadata": {},
   "outputs": [],
   "source": [
    "rfm_df['R_Score'] = pd.qcut(rfm_df['Recency'],5,labels = [5,4,3,2,1])\n",
    "rfm_df['F_Score'] = pd.qcut(rfm_df['Frequency'].rank(method='first'),5, labels = [1,2,3,4,5])\n",
    "rfm_df['M_Score'] = pd.qcut(rfm_df['Monetary'],5,labels=[1,2,3,4,5])\n"
   ]
  },
  {
   "cell_type": "code",
   "execution_count": 60,
   "id": "c276bcd4-b243-4b4f-86c8-13037fdfab99",
   "metadata": {},
   "outputs": [
    {
     "name": "stdout",
     "output_type": "stream",
     "text": [
      "    Customer ID  Recency  Frequency  Monetary R_Score F_Score M_Score  \\\n",
      "0          C003      347          1     98.67       1       1       1   \n",
      "1          C004      324          2   5062.12       1       2       3   \n",
      "2          C005       29          8   9272.82       5       5       4   \n",
      "3          C007      216          1   1451.78       2       1       2   \n",
      "4          C008       24          2    437.33       5       2       1   \n",
      "..          ...      ...        ...       ...     ...     ...     ...   \n",
      "627        C791       58          3   4408.17       4       3       3   \n",
      "628        C792       10          4   3754.13       5       4       3   \n",
      "629        C793      201          3   2648.32       2       3       3   \n",
      "630        C794      132          1    595.70       3       2       1   \n",
      "631        C795       73          3   3074.50       4       3       3   \n",
      "\n",
      "    RFM_Segment  RFM_Score  \n",
      "0           111          3  \n",
      "1           123          6  \n",
      "2           554         14  \n",
      "3           212          5  \n",
      "4           521          8  \n",
      "..          ...        ...  \n",
      "627         433         10  \n",
      "628         543         12  \n",
      "629         233          8  \n",
      "630         321          6  \n",
      "631         433         10  \n",
      "\n",
      "[632 rows x 9 columns]\n"
     ]
    }
   ],
   "source": [
    "rfm_df['RFM_Segment'] = rfm_df['R_Score'].astype(str) + rfm_df['F_Score'].astype(str) + rfm_df['M_Score'].astype(str)\n",
    "rfm_df['RFM_Score'] = rfm_df[['R_Score','F_Score','M_Score']].sum(axis =1)\n",
    "\n",
    "print(rfm_df)"
   ]
  },
  {
   "cell_type": "code",
   "execution_count": 66,
   "id": "7c4a873c-7f8d-46fe-9d12-3657c492588d",
   "metadata": {},
   "outputs": [
    {
     "name": "stdout",
     "output_type": "stream",
     "text": [
      "    Customer ID RFM_Segment  RFM_Score Segment\n",
      "0          C003         111          3  Others\n",
      "1          C004         123          6  Others\n",
      "2          C005         554         14  Others\n",
      "3          C007         212          5  Others\n",
      "4          C008         521          8  Others\n",
      "..          ...         ...        ...     ...\n",
      "627        C791         433         10  Others\n",
      "628        C792         543         12  Others\n",
      "629        C793         233          8  Others\n",
      "630        C794         321          6  Others\n",
      "631        C795         433         10  Others\n",
      "\n",
      "[632 rows x 4 columns]\n"
     ]
    }
   ],
   "source": [
    "# Define RFM segments\n",
    "def rfm_segment(row):\n",
    "    if row['R_Score'] == '5' and row['F_Score'] == '5' and row['M_Score'] == '5':\n",
    "        return 'Champions'\n",
    "    elif row['R_Score'] in ['4', '5'] and row['F_Score'] in ['4', '5']:\n",
    "        return 'Loyal Customers'\n",
    "    elif row['R_Score'] in ['3', '4', '5'] and row['F_Score'] in ['3', '4', '5']:\n",
    "        return 'Potential Loyalists'\n",
    "    elif row['R_Score'] in ['1', '2'] and row['F_Score'] in ['1', '2']:\n",
    "        return 'At-Risk'\n",
    "    else:\n",
    "        return 'Others'\n",
    "\n",
    "# Apply the function to create the segment column\n",
    "rfm_df['Segment'] = rfm_df.apply(rfm_segment, axis=1)\n",
    "\n",
    "# Display the segmented RFM DataFrame\n",
    "print(rfm_df[['Customer ID', 'RFM_Segment', 'RFM_Score', 'Segment']])"
   ]
  },
  {
   "cell_type": "code",
   "execution_count": 74,
   "id": "97a033af-2070-4aac-9a47-12bba79f938b",
   "metadata": {},
   "outputs": [
    {
     "name": "stdout",
     "output_type": "stream",
     "text": [
      "Unique R_Score values: [1, 5, 2, 4, 3]\n",
      "Categories (5, int64): [5 < 4 < 3 < 2 < 1]\n",
      "Unique F_Score values: [1, 2, 5, 3, 4]\n",
      "Categories (5, int64): [1 < 2 < 3 < 4 < 5]\n",
      "Unique M_Score values: [1, 3, 4, 2, 5]\n",
      "Categories (5, int64): [1 < 2 < 3 < 4 < 5]\n"
     ]
    }
   ],
   "source": [
    "print(\"Unique R_Score values:\", rfm_df['R_Score'].unique())\n",
    "print(\"Unique F_Score values:\", rfm_df['F_Score'].unique())\n",
    "print(\"Unique M_Score values:\", rfm_df['M_Score'].unique())"
   ]
  },
  {
   "cell_type": "code",
   "execution_count": 76,
   "id": "1c573328-136a-4c81-b3d8-cc6367b519a0",
   "metadata": {},
   "outputs": [],
   "source": [
    "def rfm_segment(row):\n",
    "    if row['R_Score'] >= 4 and row['F_Score'] >= 4 and row['M_Score'] >= 4:\n",
    "        return 'Champions'\n",
    "    elif row['R_Score'] >= 3 and row['F_Score'] >= 3 and row['M_Score'] >= 3:\n",
    "        return 'Loyal Customers'\n",
    "    elif row['R_Score'] >= 4 and row['F_Score'] >= 2:\n",
    "        return 'Potential Loyalists'\n",
    "    elif row['R_Score'] <= 2 and row['F_Score'] <= 2:\n",
    "        return 'At-Risk'\n",
    "    elif row['M_Score'] >= 4:\n",
    "        return 'Big Spenders'\n",
    "    else:\n",
    "        return 'Others'\n",
    "\n",
    "# Apply the segmentation function\n",
    "rfm_df['Segment'] = rfm_df.apply(rfm_segment, axis=1)"
   ]
  },
  {
   "cell_type": "code",
   "execution_count": 78,
   "id": "33b8f820-24f4-484c-87e0-e906565497c6",
   "metadata": {},
   "outputs": [
    {
     "name": "stdout",
     "output_type": "stream",
     "text": [
      "Segment\n",
      "At-Risk                154\n",
      "Loyal Customers        129\n",
      "Others                 128\n",
      "Champions               96\n",
      "Potential Loyalists     67\n",
      "Big Spenders            58\n",
      "Name: count, dtype: int64\n"
     ]
    }
   ],
   "source": [
    "# Re-check segment counts\n",
    "print(rfm_df['Segment'].value_counts())"
   ]
  },
  {
   "cell_type": "code",
   "execution_count": 80,
   "id": "5e0d2d1a-65e2-44ca-a59b-3edf1b08403d",
   "metadata": {},
   "outputs": [
    {
     "data": {
      "image/png": "[encoded data removed]",
      "text/plain": [
       "<Figure size 1000x600 with 1 Axes>"
      ]
     },
     "metadata": {},
     "output_type": "display_data"
    }
   ],
   "source": [
    "# Visualize with a bar chart\n",
    "segment_counts = rfm_df['Segment'].value_counts().reset_index()\n",
    "segment_counts.columns = ['Segment', 'Count']\n",
    "\n",
    "plt.figure(figsize=(10, 6))\n",
    "sns.barplot(x='Segment', y='Count', data=segment_counts, palette='viridis')\n",
    "plt.title('Customer Segments Based on RFM Analysis')\n",
    "plt.xlabel('Segment')\n",
    "plt.ylabel('Number of Customers')\n",
    "plt.xticks(rotation=45)\n",
    "plt.show()"
   ]
  },
  {
   "cell_type": "code",
   "execution_count": 85,
   "id": "b765033b-81fb-49f8-aae7-d35ee65470e9",
   "metadata": {},
   "outputs": [
    {
     "name": "stdout",
     "output_type": "stream",
     "text": [
      "    Customer ID  Recency  Frequency  Monetary R_Score F_Score M_Score\n",
      "0          C003      347          1     98.67       1       1       1\n",
      "1          C004      324          2   5062.12       1       2       3\n",
      "3          C007      216          1   1451.78       2       1       2\n",
      "7          C012      316          1    129.36       1       1       1\n",
      "12         C017      304          2    525.72       1       2       1\n",
      "..          ...      ...        ...       ...     ...     ...     ...\n",
      "580        C734      197          1     48.40       2       2       1\n",
      "590        C745      141          1    112.00       2       2       1\n",
      "606        C767      283          1   1159.42       1       2       2\n",
      "611        C772      286          1    117.60       1       2       1\n",
      "622        C785      139          1    209.76       2       2       1\n",
      "\n",
      "[154 rows x 7 columns]\n"
     ]
    }
   ],
   "source": [
    "# Filter for \"At-Risk\" customers\n",
    "at_risk_customers = rfm_df[rfm_df['Segment'] == 'At-Risk']\n",
    "\n",
    "# Display the list of \"At-Risk\" customers\n",
    "print(at_risk_customers[['Customer ID', 'Recency', 'Frequency', 'Monetary', 'R_Score', 'F_Score', 'M_Score']])"
   ]
  },
  {
   "cell_type": "code",
   "execution_count": 87,
   "id": "4ff2874a-dd85-4547-b909-5990cee763e7",
   "metadata": {},
   "outputs": [],
   "source": [
    "# Save \"At-Risk\" customers to a CSV file\n",
    "at_risk_customers.to_csv('at_risk_customers.csv', index=False)"
   ]
  },
  {
   "cell_type": "markdown",
   "id": "25fcb9e5-b0c2-4666-a6b1-5c11156d56c2",
   "metadata": {},
   "source": [
    "Analysis Based on RFM Segments\n",
    "\n",
    "Taking Action Based on RFM Segmentation\n",
    "RFM analysis helps you create personalized marketing strategies:\n",
    "\n",
    "Loyalty Programs: For Champions customers.\n",
    "Re-engagement Campaigns: For at-risk customers.\n",
    "Discounts or Promotions: For potential loyalists or new customers with promising recency and frequency scores.\n",
    "Each segment’s characteristics help you decide which marketing tactics are most likely to increase engagement and spending."
   ]
  }
 ],
 "metadata": {
  "colab": {
   "collapsed_sections": [],
   "name": "Marketing Strategy.ipynb",
   "provenance": []
  },
  "kernelspec": {
   "display_name": "Python 3 (ipykernel)",
   "language": "python",
   "name": "python3"
  },
  "language_info": {
   "codemirror_mode": {
    "name": "ipython",
    "version": 3
   },
   "file_extension": ".py",
   "mimetype": "text/x-python",
   "name": "python",
   "nbconvert_exporter": "python",
   "pygments_lexer": "ipython3",
   "version": "3.12.7"
  }
 },
 "nbformat": 4,
 "nbformat_minor": 5
}
